{
 "cells": [
  {
   "cell_type": "markdown",
   "metadata": {},
   "source": [
    "# Pololu Servo Control Via USB port using Python"
   ]
  },
  {
   "cell_type": "markdown",
   "metadata": {},
   "source": [
    "To control servos using Python on Ubuntu 16.04 via a USB port control follow this instruction.\n",
    "Install the Maestro Control Centre application as per instructions from Pololu website here:\n",
    "\n",
    "https://www.pololu.com/docs/pdf/0J40/maestro.pdf\n",
    "\n",
    "then section 3.b page 25 follow instructions in manual\n",
    "on the linux cmd line \n",
    "\n",
    "cd ~/maestro-linux\n",
    "\n",
    "./MaestroControlCenter\n",
    "\n",
    "This should have brought up the Control Center:\n",
    "\n",
    "Make sure in the ‘connect to’ box you select the found device something like #00189659\n",
    "\n",
    "Set the port to ‘serial;’ under the ‘Serial Settings’ tab UART, fixed baud rate 9600.\n",
    "\n",
    "Then set servos selecting Servo 0, Enabled, test Servo is set to centre position ie. 1500, move the servo(s) around using slider.\n",
    "\n",
    "next set:\n",
    "\n",
    "Maestro is configured for \"USB Dual Port\" serial mode on  ‘Serial Settings’ tab .\n",
    "\n",
    "To control servos using linux via USB control and Python you will need to install Pyserial\n",
    "\n",
    "Goto http://pyserial.readthedocs.io/en/latest/pyserial.html#installation\n",
    "\n",
    "for Python 3.6 version install using Conda forge (if you are using Conda else use pip install)\n",
    "\n",
    "conda install -c conda-forge pyserial\n",
    "\n",
    "next go to Git Clone and grab maestro.py file\n",
    "\n",
    "https://github.com/FRC4564/Maestro.git\n",
    "\n",
    "this will install in the HOME directory as ‘Maestro’\n",
    "\n",
    "You may need to change the permissions on ACM0 to to gain access or use 'sudo python' (bad idea)\n",
    "\n",
    "sudo chmod 777 /dev/ttyACM0\n",
    "\n",
    "When connected via USB, the Maestro creates two virtual serial ports\n",
    " /dev/ttyACM0 for commands and /dev/ttyACM1 for communications.\n",
    "\n",
    "You may need to add a Path so Python can find maestro\n",
    "\n",
    "eg.\n",
    "\n",
    "nano ~/.bashrc\n",
    "\n",
    "export PYTHONPATH=/home/sl/Maestro:$PYTHONPATH\n",
    "\n",
    "source ~/.bashrc\n",
    "\n",
    "or if that doesn’t work for this session in python for below:\n",
    "\n",
    "import sys\n",
    "sys.path.append('/home/sl/Maestro')\n",
    "\n",
    "The right way would be to install Maestro.py  package to ‘site packages’ instead of playing \n",
    "with the pythonpath, that way you can also install it in virtual envs"
   ]
  },
  {
   "cell_type": "markdown",
   "metadata": {},
   "source": [
    "# using either ipython or Jupyter Notes run the following test"
   ]
  },
  {
   "cell_type": "code",
   "execution_count": null,
   "metadata": {
    "ExecuteTime": {
     "end_time": "2017-12-06T03:59:50.535950Z",
     "start_time": "2017-12-06T03:59:38.654Z"
    }
   },
   "outputs": [],
   "source": [
    "import sys\n",
    "import maestro # imports python library"
   ]
  },
  {
   "cell_type": "code",
   "execution_count": 60,
   "metadata": {
    "ExecuteTime": {
     "end_time": "2017-12-06T04:36:49.902786Z",
     "start_time": "2017-12-06T04:36:49.889261Z"
    }
   },
   "outputs": [
    {
     "data": {
      "text/plain": [
       "8000"
      ]
     },
     "execution_count": 60,
     "metadata": {},
     "output_type": "execute_result"
    }
   ],
   "source": [
    "# Position tilt servo\n",
    "servo = maestro.Controller()\n",
    "servo.setTarget(1,8000)\n",
    "servo.setAccel(0,4)\n",
    "servo.setTarget(1,3000)\n",
    "servo.getPosition(0)\n",
    "#servo.close"
   ]
  },
  {
   "cell_type": "code",
   "execution_count": 21,
   "metadata": {
    "ExecuteTime": {
     "end_time": "2017-12-06T04:19:13.483977Z",
     "start_time": "2017-12-06T04:19:13.477451Z"
    }
   },
   "outputs": [
    {
     "name": "stdout",
     "output_type": "stream",
     "text": [
      "8000 <--Pan 3968 <--Tilt\n"
     ]
    }
   ],
   "source": [
    "print(servo.getPosition(0),\"<--Pan\", servo.getPosition(1), \"<--Tilt\") # x,y"
   ]
  },
  {
   "cell_type": "code",
   "execution_count": 59,
   "metadata": {
    "ExecuteTime": {
     "end_time": "2017-12-06T04:36:28.654262Z",
     "start_time": "2017-12-06T04:36:13.843958Z"
    }
   },
   "outputs": [
    {
     "data": {
      "text/plain": [
       "<bound method Controller.close of <maestro.Controller object at 0x7fbc8443b0f0>>"
      ]
     },
     "execution_count": 59,
     "metadata": {},
     "output_type": "execute_result"
    }
   ],
   "source": [
    "## Pan and Tilt for a round 30 seconds\n",
    "servo = maestro.Controller()\n",
    "a = 0\n",
    "while a <=15000:\n",
    "    a += 1\n",
    "    if servo.getPosition(1) == 8000:\n",
    "        servo.setAccel(1,4)      #set servo 1 acceleration to 4\n",
    "        servo.setTarget(1,3000)\n",
    "    elif servo.getPosition(1) == 3968:\n",
    "        servo.setAccel(1,4)      \n",
    "        servo.setTarget(1,8000)\n",
    "    if servo.getPosition(0) == 8000:\n",
    "        servo.setAccel(0,4)      #set servo 0 acceleration to 4\n",
    "        servo.setTarget(0,3000)\n",
    "    elif servo.getPosition(0) == 3968:\n",
    "        servo.setAccel(0,4)      \n",
    "        servo.setTarget(0,8000)\n",
    "servo.close"
   ]
  },
  {
   "cell_type": "markdown",
   "metadata": {},
   "source": [
    "# Need to know more? Check the method"
   ]
  },
  {
   "cell_type": "code",
   "execution_count": 61,
   "metadata": {
    "ExecuteTime": {
     "end_time": "2017-12-06T05:03:14.196591Z",
     "start_time": "2017-12-06T05:03:14.146675Z"
    }
   },
   "outputs": [],
   "source": [
    "maestro.Controller??"
   ]
  }
 ],
 "metadata": {
  "kernelspec": {
   "display_name": "Python 3",
   "language": "python",
   "name": "python3"
  },
  "language_info": {
   "codemirror_mode": {
    "name": "ipython",
    "version": 3
   },
   "file_extension": ".py",
   "mimetype": "text/x-python",
   "name": "python",
   "nbconvert_exporter": "python",
   "pygments_lexer": "ipython3",
   "version": "3.6.2"
  },
  "varInspector": {
   "cols": {
    "lenName": 16,
    "lenType": 16,
    "lenVar": 40
   },
   "kernels_config": {
    "python": {
     "delete_cmd_postfix": "",
     "delete_cmd_prefix": "del ",
     "library": "var_list.py",
     "varRefreshCmd": "print(var_dic_list())"
    },
    "r": {
     "delete_cmd_postfix": ") ",
     "delete_cmd_prefix": "rm(",
     "library": "var_list.r",
     "varRefreshCmd": "cat(var_dic_list()) "
    }
   },
   "types_to_exclude": [
    "module",
    "function",
    "builtin_function_or_method",
    "instance",
    "_Feature"
   ],
   "window_display": false
  }
 },
 "nbformat": 4,
 "nbformat_minor": 2
}
